{
 "cells": [
  {
   "cell_type": "code",
   "execution_count": 54,
   "metadata": {},
   "outputs": [],
   "source": [
    "import tiktoken"
   ]
  },
  {
   "cell_type": "code",
   "execution_count": 55,
   "metadata": {},
   "outputs": [],
   "source": [
    "tokenizer=tiktoken.get_encoding(\"gpt2\")\n"
   ]
  },
  {
   "cell_type": "code",
   "execution_count": 56,
   "metadata": {},
   "outputs": [
    {
     "name": "stdout",
     "output_type": "stream",
     "text": [
      "5145\n"
     ]
    }
   ],
   "source": [
    "with open(\"the-verdict.txt\",\"r\") as f:\n",
    "    raw_text=f.read()\n",
    "\n",
    "encoded_text=tokenizer.encode(raw_text)\n",
    "print(len(encoded_text))    \n",
    "\n"
   ]
  },
  {
   "cell_type": "code",
   "execution_count": 57,
   "metadata": {},
   "outputs": [
    {
     "name": "stdout",
     "output_type": "stream",
     "text": [
      "[40, 367, 2885, 1464]\n",
      "    [367, 2885, 1464, 1807]\n"
     ]
    }
   ],
   "source": [
    "context_size=4\n",
    "\n",
    "x=encoded_text[:context_size]\n",
    "y=encoded_text[1:context_size+1]\n",
    "   \n",
    "print(x)\n",
    "print(\"   \",y)   \n"
   ]
  },
  {
   "cell_type": "code",
   "execution_count": 58,
   "metadata": {},
   "outputs": [
    {
     "name": "stdout",
     "output_type": "stream",
     "text": [
      "[40] ===> 367\n",
      "[40, 367] ===> 2885\n",
      "[40, 367, 2885] ===> 1464\n",
      "[40, 367, 2885, 1464] ===> 1807\n"
     ]
    }
   ],
   "source": [
    "for i in range(1,context_size+1):\n",
    "    context=encoded_text[:i]\n",
    "    desired=encoded_text[i]\n",
    "    print(context,\"===>\",desired)"
   ]
  },
  {
   "cell_type": "code",
   "execution_count": 59,
   "metadata": {},
   "outputs": [
    {
     "name": "stdout",
     "output_type": "stream",
     "text": [
      "I ===>  H\n",
      "I H ===> AD\n",
      "I HAD ===>  always\n",
      "I HAD always ===>  thought\n"
     ]
    }
   ],
   "source": [
    "for i in range(1,context_size+1):\n",
    "    context = encoded_text[:i]  \n",
    "    desired = encoded_text[i]\n",
    "    print(tokenizer.decode(context), \"===>\", tokenizer.decode([desired]))\n"
   ]
  },
  {
   "cell_type": "markdown",
   "metadata": {},
   "source": [
    "Datasets and Data Loader\n"
   ]
  },
  {
   "cell_type": "markdown",
   "metadata": {},
   "source": [
    "Datasets and Dataloader allows us to load data in more effificient manner"
   ]
  },
  {
   "cell_type": "markdown",
   "metadata": {},
   "source": [
    "we will implement Data Loader that Fatches the Data Using sliding window approach   "
   ]
  },
  {
   "cell_type": "code",
   "execution_count": 60,
   "metadata": {},
   "outputs": [],
   "source": [
    "from torch.utils.data import Dataset, DataLoader\n",
    "import torch"
   ]
  },
  {
   "cell_type": "code",
   "execution_count": 61,
   "metadata": {},
   "outputs": [],
   "source": [
    "class GPTversion1(Dataset):\n",
    "    def __init__(self,text#text file to be read\n",
    "                 ,tokenizer #byte pair tokenizer\n",
    "                 ,max_length #cotext size\n",
    "                 ,stride):\n",
    "        self.input_ids=[]\n",
    "        self.target_ids=[]\n",
    "        \n",
    "        token_ids=tokenizer.encode(text,allowed_special={'<|endoftext|>'})\n",
    "\n",
    "        for i in range(0,len(token_ids)-max_length,stride):\n",
    "            input_chunk=token_ids[i:i+max_length]\n",
    "            target_chunk=token_ids[i+1:i+max_length+1]\n",
    "            self.input_ids.append(torch.tensor(input_chunk))\n",
    "            self.target_ids.append(torch.tensor(target_chunk))\n",
    "\n",
    "\n",
    "    def __len__(self):\n",
    "        return len(self.input_ids)\n",
    "    \n",
    "    def __getitem__(self,i):\n",
    "        return self.input_ids[i],self.target_ids[i]"
   ]
  },
  {
   "cell_type": "code",
   "execution_count": 62,
   "metadata": {},
   "outputs": [],
   "source": [
    "#create Dataset loader\n",
    "def create_dataset_Loader_V1(text,batch_size=4#number of CPU cores to use\n",
    "                         ,max_length=256,\n",
    "                         stride=128,\n",
    "                         shuffle=True,\n",
    "                         drop_last=True,\n",
    "                         num_workers=0#number of CPU threads that we can use simultaneously\n",
    "                         ):\n",
    "    #initialize the tokenizer\n",
    "    tokenizer=tiktoken.get_encoding(\"gpt2\")\n",
    "    dataset=GPTversion1(text,tokenizer,max_length,stride)\n",
    "    dataLoader=DataLoader(dataset,batch_size=batch_size,shuffle=shuffle,drop_last=drop_last,num_workers=num_workers)\n",
    "    return dataLoader\n",
    "\n",
    "\n",
    "\n"
   ]
  },
  {
   "cell_type": "code",
   "execution_count": 66,
   "metadata": {},
   "outputs": [
    {
     "name": "stdout",
     "output_type": "stream",
     "text": [
      "[tensor([[6653, 6563, 2951, 6348]]), tensor([[6563, 2951, 6348, 5391]])]\n"
     ]
    }
   ],
   "source": [
    "import torch\n",
    "with open(\"the-verdict.txt\",\"r\") as f:\n",
    "    raw_text=f.read()\n",
    "dataloader=create_dataset_Loader_V1(raw_text,batch_size=1,max_length=4,\n",
    "                                    stride=1)\n",
    "data_iter=iter(dataloader)\n",
    "first_batch=next(data_iter)\n",
    "print(first_batch)\n",
    "\n",
    "\n"
   ]
  }
 ],
 "metadata": {
  "kernelspec": {
   "display_name": "base",
   "language": "python",
   "name": "python3"
  },
  "language_info": {
   "codemirror_mode": {
    "name": "ipython",
    "version": 3
   },
   "file_extension": ".py",
   "mimetype": "text/x-python",
   "name": "python",
   "nbconvert_exporter": "python",
   "pygments_lexer": "ipython3",
   "version": "3.12.4"
  }
 },
 "nbformat": 4,
 "nbformat_minor": 2
}
